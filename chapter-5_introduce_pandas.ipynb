{
 "cells": [
  {
   "cell_type": "markdown",
   "metadata": {},
   "source": [
    "# Pandas Introdution"
   ]
  },
  {
   "cell_type": "markdown",
   "metadata": {},
   "source": [
    "Quyển sách này sử dụng chính library ```pandas``` cho việc data analysis. ```pandas``` được design như là một tool phân tích data với high-level data structure, giúp cho việc dùng ```python``` cho data analysis trở lên simple và nhanh hơn. "
   ]
  },
  {
   "cell_type": "markdown",
   "metadata": {},
   "source": [
    "```mermaid\n",
    "graph TD;\n",
    "    A[\"Pandas\"] --> B;\n",
    "```"
   ]
  }
 ],
 "metadata": {
  "language_info": {
   "name": "python"
  }
 },
 "nbformat": 4,
 "nbformat_minor": 2
}
