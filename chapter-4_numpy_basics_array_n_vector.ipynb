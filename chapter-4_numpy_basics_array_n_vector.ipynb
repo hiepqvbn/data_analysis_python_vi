{
 "cells": [
  {
   "cell_type": "markdown",
   "metadata": {},
   "source": [
    "# Numpy Basics: Array & Vector"
   ]
  },
  {
   "cell_type": "markdown",
   "metadata": {},
   "source": [
    "```Numpy``` là viết tắt của ```Numerical Python```, là một python package cho science calculation và data analysis. ```Numpy`` có các features như dưới đây:\n",
    "- phép tính vector\n",
    "- tốc độ viết nhanh, không cần dùng loop cho các functions toán học cơ bản\n",
    "- disk array -> memory map file feature\n",
    "- array calculation, random generation, Fourier transform\n",
    "- C, C++, Fortran interface"
   ]
  },
  {
   "cell_type": "markdown",
   "metadata": {},
   "source": [
    "# 1. High dimension array object\n",
    "```ndarray```"
   ]
  }
 ],
 "metadata": {
  "language_info": {
   "name": "python"
  }
 },
 "nbformat": 4,
 "nbformat_minor": 2
}
